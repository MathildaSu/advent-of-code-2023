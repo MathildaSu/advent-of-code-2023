{
 "cells": [
  {
   "cell_type": "code",
   "execution_count": 1,
   "metadata": {},
   "outputs": [],
   "source": [
    "import re"
   ]
  },
  {
   "cell_type": "code",
   "execution_count": 6,
   "metadata": {},
   "outputs": [
    {
     "name": "stdout",
     "output_type": "stream",
     "text": [
      "0\n"
     ]
    }
   ],
   "source": [
    "g_sum = 0\n",
    "rule = {'red': 12, 'green': 13, 'blue': 14}\n",
    "with open('day2-input.txt') as f:\n",
    "    for line in f.readlines():\n",
    "        line = line.strip()\n",
    "        g = 0\n",
    "        breaker = False\n",
    "        for colour in rule.keys():\n",
    "            for m in re.finditer(colour, line):\n",
    "                print(line)\n",
    "                print(colour)\n",
    "                print(line[m.span()[0]-2])\n",
    "                if int(line[m.span()[0]-2]) > rule[colour]:\n",
    "                    g = int(re.search(r'\\d', line.split(':')[0]).group(0))\n",
    "                    g_sum += g\n",
    "                    breaker = True\n",
    "                    break\n",
    "            if breaker:\n",
    "                break\n",
    "\n",
    "print(g_sum)\n",
    "\n"
   ]
  },
  {
   "cell_type": "code",
   "execution_count": null,
   "metadata": {},
   "outputs": [],
   "source": []
  }
 ],
 "metadata": {
  "kernelspec": {
   "display_name": "asthma-backend",
   "language": "python",
   "name": "python3"
  },
  "language_info": {
   "codemirror_mode": {
    "name": "ipython",
    "version": 3
   },
   "file_extension": ".py",
   "mimetype": "text/x-python",
   "name": "python",
   "nbconvert_exporter": "python",
   "pygments_lexer": "ipython3",
   "version": "3.9.0"
  }
 },
 "nbformat": 4,
 "nbformat_minor": 2
}
