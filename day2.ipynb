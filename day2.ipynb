{
 "cells": [
  {
   "cell_type": "code",
   "execution_count": 1,
   "metadata": {},
   "outputs": [],
   "source": [
    "import re\n",
    "import numpy as np"
   ]
  },
  {
   "cell_type": "markdown",
   "metadata": {},
   "source": [
    "# Task 1\n"
   ]
  },
  {
   "cell_type": "code",
   "execution_count": 2,
   "metadata": {},
   "outputs": [
    {
     "name": "stdout",
     "output_type": "stream",
     "text": [
      "2369\n"
     ]
    }
   ],
   "source": [
    "g_sum = 0\n",
    "rule = {\"red\": 12, \"green\": 13, \"blue\": 14}\n",
    "with open(\"day2-input.txt\") as f:\n",
    "    for line in f.readlines():\n",
    "        line = line.strip()\n",
    "        breaker = False\n",
    "        g = 0\n",
    "        for colour in rule.keys():\n",
    "            for m in re.finditer(colour, line):\n",
    "                if (\n",
    "                    int(re.search(r\"\\d+\", line[m.span()[0] - 4 : m.span()[0]]).group(0))\n",
    "                    > rule[colour]\n",
    "                ):\n",
    "                    breaker = True\n",
    "                    break\n",
    "            if breaker:\n",
    "                break\n",
    "\n",
    "        if not breaker:\n",
    "            g = int(re.search(r\"\\d+\", line.split(\":\")[0]).group(0))\n",
    "            g_sum += g\n",
    "\n",
    "print(g_sum)"
   ]
  },
  {
   "cell_type": "markdown",
   "metadata": {},
   "source": [
    "# Task 2\n"
   ]
  },
  {
   "cell_type": "code",
   "execution_count": 3,
   "metadata": {},
   "outputs": [
    {
     "name": "stdout",
     "output_type": "stream",
     "text": [
      "66363\n"
     ]
    }
   ],
   "source": [
    "p_sum = 0\n",
    "with open(\"day2-input.txt\") as f:\n",
    "    for line in f.readlines():\n",
    "        cn = {\"red\": 0, \"green\": 0, \"blue\": 0}\n",
    "        # print(cn)\n",
    "        line = line.strip()\n",
    "        for c in rule.keys():\n",
    "            for m in re.finditer(c, line):\n",
    "                c_n = int(\n",
    "                    re.search(r\"\\d+\", line[m.span()[0] - 4 : m.span()[0]]).group(0)\n",
    "                )\n",
    "                if c_n > cn[c]:\n",
    "                    cn[c] = c_n\n",
    "        # print(cn)\n",
    "        p_c = np.prod(list(cn.values()))\n",
    "        p_sum += p_c\n",
    "\n",
    "print(p_sum)"
   ]
  },
  {
   "cell_type": "code",
   "execution_count": null,
   "metadata": {},
   "outputs": [],
   "source": []
  }
 ],
 "metadata": {
  "kernelspec": {
   "display_name": "asthma-backend",
   "language": "python",
   "name": "python3"
  },
  "language_info": {
   "codemirror_mode": {
    "name": "ipython",
    "version": 3
   },
   "file_extension": ".py",
   "mimetype": "text/x-python",
   "name": "python",
   "nbconvert_exporter": "python",
   "pygments_lexer": "ipython3",
   "version": "3.9.0"
  }
 },
 "nbformat": 4,
 "nbformat_minor": 2
}
