{
 "cells": [
  {
   "cell_type": "code",
   "execution_count": 1,
   "metadata": {},
   "outputs": [],
   "source": [
    "import re\n",
    "import numpy as np"
   ]
  },
  {
   "cell_type": "code",
   "execution_count": 3,
   "metadata": {},
   "outputs": [
    {
     "name": "stdout",
     "output_type": "stream",
     "text": [
      "54597\n"
     ]
    }
   ],
   "source": [
    "sum = 0\n",
    "with open('day1-input.txt') as f:\n",
    "    for line in f.readlines():\n",
    "        digits = re.findall(r'\\d', line.strip())\n",
    "        sum += 10*int(digits[0]) + int(digits[-1])\n",
    "\n",
    "print(sum)"
   ]
  },
  {
   "cell_type": "code",
   "execution_count": 13,
   "metadata": {},
   "outputs": [
    {
     "name": "stdout",
     "output_type": "stream",
     "text": [
      "zero\n",
      "None None\n",
      "0.0\n",
      "one\n",
      "None None\n",
      "0.0\n",
      "two\n",
      "None None\n",
      "0.0\n",
      "three\n",
      "None None\n",
      "0.0\n",
      "four\n",
      "None None\n",
      "0.0\n",
      "five\n",
      "None None\n",
      "0.0\n",
      "six\n",
      "None None\n",
      "0.0\n",
      "seven\n",
      "None None\n",
      "0.0\n",
      "eight\n",
      "None None\n",
      "0.0\n",
      "nine\n",
      "None <re.Match object; span=(0, 1), match='9'>\n",
      "0.0\n",
      "0\n"
     ]
    }
   ],
   "source": [
    "all_numbers = ['zero', 'one', 'two', 'three', 'four', 'five', 'six', 'seven', 'eight', 'nine']\n",
    "numbers_map={'zero': 0, \n",
    "             'one': 1, \n",
    "             'two': 2, \n",
    "             'three': 3, \n",
    "             'four': 4, \n",
    "             'five': 5, \n",
    "             'six': 6, \n",
    "             'seven': 7, \n",
    "             'eight': 8, \n",
    "             'nine': 9}\n",
    "\n",
    "sum = 0\n",
    "with open('day1-input.txt') as f:\n",
    "    for line in f.readlines():\n",
    "        index_num = np.zeros(10)\n",
    "        for number in all_numbers:\n",
    "            print(number)\n",
    "            r_s = re.match(number,line)\n",
    "            r_d = re.match(str(numbers_map[number]), line)\n",
    "            print(r_s, r_d)\n",
    "            if r_s and r_d:\n",
    "                index_num[numbers_map[number]] = np.min(r_s.span()[-1], r_d.span()[-1])\n",
    "            elif r_s:\n",
    "                index_num[numbers_map[number]] = r_s.span()[-1]\n",
    "            elif r_d:\n",
    "                index_num[numbers_map[number]] = r_d.span()[-1]\n",
    "            \n",
    "            print(index_num[numbers_map[number]])\n",
    "        sum += 10*np.argmin(index_num) + np.argmax(index_num)\n",
    "        break\n",
    "\n",
    "print(sum)"
   ]
  },
  {
   "cell_type": "code",
   "execution_count": null,
   "metadata": {},
   "outputs": [],
   "source": []
  }
 ],
 "metadata": {
  "kernelspec": {
   "display_name": "Python 3",
   "language": "python",
   "name": "python3"
  },
  "language_info": {
   "codemirror_mode": {
    "name": "ipython",
    "version": 3
   },
   "file_extension": ".py",
   "mimetype": "text/x-python",
   "name": "python",
   "nbconvert_exporter": "python",
   "pygments_lexer": "ipython3",
   "version": "3.9.0"
  }
 },
 "nbformat": 4,
 "nbformat_minor": 2
}
