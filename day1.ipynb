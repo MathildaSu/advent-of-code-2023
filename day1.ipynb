{
 "cells": [
  {
   "cell_type": "code",
   "execution_count": 1,
   "metadata": {},
   "outputs": [],
   "source": [
    "import re\n",
    "import numpy as np"
   ]
  },
  {
   "cell_type": "markdown",
   "metadata": {},
   "source": [
    "# Task 1\n"
   ]
  },
  {
   "cell_type": "code",
   "execution_count": 3,
   "metadata": {},
   "outputs": [
    {
     "name": "stdout",
     "output_type": "stream",
     "text": [
      "54597\n"
     ]
    }
   ],
   "source": [
    "sum = 0\n",
    "with open('day1-input.txt') as f:\n",
    "    for line in f.readlines():\n",
    "        digits = re.findall(r'\\d', line.strip())\n",
    "        sum += 10*int(digits[0]) + int(digits[-1])\n",
    "\n",
    "print(sum)"
   ]
  },
  {
   "cell_type": "markdown",
   "metadata": {},
   "source": [
    "# Task 2\n"
   ]
  },
  {
   "cell_type": "code",
   "execution_count": 32,
   "metadata": {},
   "outputs": [
    {
     "name": "stdout",
     "output_type": "stream",
     "text": [
      "54504\n"
     ]
    }
   ],
   "source": [
    "numbers_map={'zero': 0, \n",
    "             'one': 1, \n",
    "             'two': 2, \n",
    "             'three': 3, \n",
    "             'four': 4, \n",
    "             'five': 5, \n",
    "             'six': 6, \n",
    "             'seven': 7, \n",
    "             'eight': 8, \n",
    "             'nine': 9}\n",
    "\n",
    "sum = 0\n",
    "with open('day1-input.txt') as f:\n",
    "    for line in f.readlines():\n",
    "        first_num = 0\n",
    "        first_index = 65535\n",
    "        last_num = 0\n",
    "        last_index = -1\n",
    "        for number in numbers_map.keys():\n",
    "            # print(number)\n",
    "            r_s = re.finditer(number,line)\n",
    "            r_d = re.finditer(str(numbers_map[number]), line)\n",
    "            for m in r_s:\n",
    "                if m.span()[0] < first_index:\n",
    "                    first_index = m.span()[0]\n",
    "                    first_num = numbers_map[number]\n",
    "                if m.span()[0] > last_index:\n",
    "                    last_index = m.span()[0]\n",
    "                    last_num = numbers_map[number]\n",
    "            for m in r_d:\n",
    "                if m.span()[0] < first_index:\n",
    "                    first_index = m.span()[0]\n",
    "                    first_num = numbers_map[number]\n",
    "                if m.span()[0] > last_index:\n",
    "                    last_index = m.span()[0]\n",
    "                    last_num = numbers_map[number]      \n",
    "        sum += 10*first_num+ last_num\n",
    "\n",
    "print(sum)"
   ]
  },
  {
   "cell_type": "code",
   "execution_count": null,
   "metadata": {},
   "outputs": [],
   "source": []
  }
 ],
 "metadata": {
  "kernelspec": {
   "display_name": "Python 3",
   "language": "python",
   "name": "python3"
  },
  "language_info": {
   "codemirror_mode": {
    "name": "ipython",
    "version": 3
   },
   "file_extension": ".py",
   "mimetype": "text/x-python",
   "name": "python",
   "nbconvert_exporter": "python",
   "pygments_lexer": "ipython3",
   "version": "3.9.0"
  }
 },
 "nbformat": 4,
 "nbformat_minor": 2
}
