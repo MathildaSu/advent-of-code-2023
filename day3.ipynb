{
 "cells": [
  {
   "cell_type": "code",
   "execution_count": 2,
   "metadata": {},
   "outputs": [],
   "source": [
    "import re\n",
    "import numpy as np"
   ]
  },
  {
   "cell_type": "markdown",
   "metadata": {},
   "source": [
    "# Task 1\n"
   ]
  },
  {
   "cell_type": "code",
   "execution_count": 30,
   "metadata": {},
   "outputs": [
    {
     "name": "stdout",
     "output_type": "stream",
     "text": [
      "527446\n"
     ]
    }
   ],
   "source": [
    "n_sum = 0\n",
    "with open(\"day3-input.txt\") as f:\n",
    "    symbols = []\n",
    "    numbers = []\n",
    "    for line in f.readlines():\n",
    "        removed = []\n",
    "        line = line.strip()\n",
    "        symbols_new = list(re.finditer(r\"[^\\d\\w\\s\\.]\", line))\n",
    "        numbers_new = list(re.finditer(r\"\\d+\", line))\n",
    "        for s in symbols + symbols_new:\n",
    "            for n in numbers:\n",
    "                if len(\n",
    "                    set(range(n.span()[0] - 1, n.span()[1]))\n",
    "                    & set(range(s.span()[0] - 1, s.span()[1]))\n",
    "                ):\n",
    "                    n_sum += int(n.group(0))\n",
    "            for n in numbers_new:\n",
    "                if len(\n",
    "                    set(range(n.span()[0] - 1, n.span()[1]))\n",
    "                    & set(range(s.span()[0] - 1, s.span()[1]))\n",
    "                ):\n",
    "                    n_sum += int(n.group(0))\n",
    "                    removed.append(n)\n",
    "        for r in removed:\n",
    "            numbers_new.remove(r)\n",
    "        symbols = symbols_new\n",
    "        numbers = numbers_new\n",
    "\n",
    "print(n_sum)"
   ]
  },
  {
   "cell_type": "markdown",
   "metadata": {},
   "source": []
  },
  {
   "cell_type": "code",
   "execution_count": 33,
   "metadata": {},
   "outputs": [
    {
     "name": "stdout",
     "output_type": "stream",
     "text": [
      "73201705\n"
     ]
    }
   ],
   "source": [
    "import numpy as np\n",
    "\n",
    "n_sum = 0\n",
    "\n",
    "with open(\"day3-input.txt\") as f:\n",
    "    symbols = {}\n",
    "    numbers = []\n",
    "    for line in f.readlines():\n",
    "        symbols_new = {}\n",
    "        line = line.strip()\n",
    "        ss = list(re.finditer(r\"\\*\", line))\n",
    "        numbers_new = list(re.finditer(r\"\\d+\", line))\n",
    "        for s in ss:\n",
    "            symbols_new[s.span()] = []\n",
    "            for n in numbers_new:\n",
    "                if len(\n",
    "                    set(range(n.span()[0] - 1, n.span()[1]))\n",
    "                    & set(range(s.span()[0] - 1, s.span()[1]))\n",
    "                ):\n",
    "                    symbols_new[s.span()].append(int(n.group(0)))\n",
    "\n",
    "            for n in numbers:\n",
    "                if len(\n",
    "                    set(range(n.span()[0] - 1, n.span()[1]))\n",
    "                    & set(range(s.span()[0] - 1, s.span()[1]))\n",
    "                ):\n",
    "                    symbols_new[s.span()].append(int(n.group(0)))\n",
    "\n",
    "        for s in symbols:\n",
    "            for n in numbers_new:\n",
    "                if len(\n",
    "                    set(range(n.span()[0] - 1, n.span()[1]))\n",
    "                    & set(range(s[0] - 1, s[1]))\n",
    "                ):\n",
    "                    symbols[s].append(int(n.group(0)))\n",
    "            if len(symbols[s]) == 2:\n",
    "                n_sum += np.prod(symbols[s])\n",
    "\n",
    "        symbols = symbols_new\n",
    "        numbers = numbers_new\n",
    "\n",
    "\n",
    "print(n_sum)"
   ]
  },
  {
   "cell_type": "code",
   "execution_count": null,
   "metadata": {},
   "outputs": [],
   "source": []
  }
 ],
 "metadata": {
  "kernelspec": {
   "display_name": "asthma-backend",
   "language": "python",
   "name": "python3"
  },
  "language_info": {
   "codemirror_mode": {
    "name": "ipython",
    "version": 3
   },
   "file_extension": ".py",
   "mimetype": "text/x-python",
   "name": "python",
   "nbconvert_exporter": "python",
   "pygments_lexer": "ipython3",
   "version": "3.9.0"
  }
 },
 "nbformat": 4,
 "nbformat_minor": 2
}
